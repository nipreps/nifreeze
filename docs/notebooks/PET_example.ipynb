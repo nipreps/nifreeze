{
 "cells": [
  {
   "cell_type": "code",
   "execution_count": 1,
   "id": "4111cc1b-5123-407a-8ec6-56d65bc94bc4",
   "metadata": {},
   "outputs": [],
   "source": [
    "import numpy as np\n",
    "from pathlib import Path\n",
    "import shutil\n",
    "import warnings\n",
    "\n",
    "from eddymotion.data import pet\n",
    "from eddymotion.model import PETModel\n",
    "from eddymotion.viz import plot_dwi\n",
    "import nibabel as nib\n",
    "from eddymotion.data.splitting import lovo_split"
   ]
  },
  {
   "cell_type": "code",
   "execution_count": 2,
   "id": "68dc04bd-04d8-49fa-bb21-d5de76afbc63",
   "metadata": {},
   "outputs": [],
   "source": [
    "base_dir = Path(\"/Users/martinnorgaard/Documents/BIDS/\")\n",
    "bids_dir = base_dir / \"ds005138-download\"\n",
    "derivatives_dir = base_dir / \"eddymotion\"\n",
    "\n",
    "pet_file = bids_dir / \"sub-01\" / \"ses-baseline\" / \"pet\" / \"sub-01_ses-baseline_pet.nii.gz\"\n",
    "json_file = bids_dir / \"sub-01\" / \"ses-baseline\" / \"pet\" / \"sub-01_ses-baseline_pet.json\"\n",
    "\n",
    "pet_dataset = pet.PET.load(pet_file, json_file)"
   ]
  },
  {
   "cell_type": "code",
   "execution_count": 7,
   "id": "09e5053e-4565-4892-a0a9-a8410fbe6748",
   "metadata": {},
   "outputs": [],
   "source": [
    "data_train, data_test = pet_dataset.lofo_split(15)"
   ]
  },
  {
   "cell_type": "code",
   "execution_count": 8,
   "id": "81c8d5d5-a2c6-44fa-b9d4-4f21f809c6e1",
   "metadata": {},
   "outputs": [],
   "source": [
    "model = PETModel(timepoints=data_train[1], xlim = 7000)"
   ]
  },
  {
   "cell_type": "code",
   "execution_count": 9,
   "id": "d541ae17-8bf8-457a-8aeb-986a4324434a",
   "metadata": {},
   "outputs": [],
   "source": [
    "model.fit(data_train[0])"
   ]
  },
  {
   "cell_type": "code",
   "execution_count": 6,
   "id": "dee05183-57b5-46ed-811a-c0b26a53a386",
   "metadata": {},
   "outputs": [],
   "source": [
    "predicted = model.predict(data_test[1])"
   ]
  },
  {
   "cell_type": "code",
   "execution_count": 7,
   "id": "80b57514-d2a7-43bc-82e5-b4270822d4c5",
   "metadata": {},
   "outputs": [],
   "source": [
    "# before\n",
    "nifti_img_before = nib.Nifti1Image(predicted, pet_dataset.affine)\n",
    "output_path_before = 'before_mc.nii'\n",
    "nifti_img_before.to_filename(output_path_before)\n",
    "\n",
    "# after\n",
    "nifti_img_after = nib.Nifti1Image(data_test[0], pet_dataset.affine)\n",
    "output_path_after = 'after_mc.nii'\n",
    "nifti_img_after.to_filename(output_path_after)"
   ]
  },
  {
   "cell_type": "code",
   "execution_count": 5,
   "id": "452749dc-f7f1-4e6d-b4d6-49e67e742033",
   "metadata": {},
   "outputs": [
    {
     "ename": "NameError",
     "evalue": "name 'output_path_after' is not defined",
     "output_type": "error",
     "traceback": [
      "\u001b[0;31m---------------------------------------------------------------------------\u001b[0m",
      "\u001b[0;31mNameError\u001b[0m                                 Traceback (most recent call last)",
      "Cell \u001b[0;32mIn[5], line 5\u001b[0m\n\u001b[1;32m      2\u001b[0m \u001b[38;5;28;01mimport\u001b[39;00m \u001b[38;5;21;01mos\u001b[39;00m\n\u001b[1;32m      3\u001b[0m \u001b[38;5;28;01mfrom\u001b[39;00m \u001b[38;5;21;01mIPython\u001b[39;00m\u001b[38;5;21;01m.\u001b[39;00m\u001b[38;5;21;01mdisplay\u001b[39;00m \u001b[38;5;28;01mimport\u001b[39;00m SVG\n\u001b[0;32m----> 5\u001b[0m moving_image \u001b[38;5;241m=\u001b[39m \u001b[43moutput_path_after\u001b[49m\n\u001b[1;32m      6\u001b[0m fixed_image \u001b[38;5;241m=\u001b[39m output_path_before\n\u001b[1;32m      7\u001b[0m obj \u001b[38;5;241m=\u001b[39m display(fixed_image, moving_image, fixed_label\u001b[38;5;241m=\u001b[39m\u001b[38;5;124m'\u001b[39m\u001b[38;5;124mPET_before\u001b[39m\u001b[38;5;124m'\u001b[39m, moving_label\u001b[38;5;241m=\u001b[39m\u001b[38;5;124m'\u001b[39m\u001b[38;5;124mPET\u001b[39m\u001b[38;5;124m'\u001b[39m)\n",
      "\u001b[0;31mNameError\u001b[0m: name 'output_path_after' is not defined"
     ]
    }
   ],
   "source": [
    "from niworkflows.viz.notebook import display\n",
    "import os\n",
    "from IPython.display import SVG\n",
    "\n",
    "moving_image = output_path_after\n",
    "fixed_image = output_path_before\n",
    "obj = display(fixed_image, moving_image, fixed_label='PET_before', moving_label='PET')"
   ]
  },
  {
   "cell_type": "code",
   "execution_count": 3,
   "id": "7c2c8811-d7ba-4ad1-8275-abd3b9ac3b10",
   "metadata": {},
   "outputs": [],
   "source": [
    "from eddymotion.estimator import PETMotionEstimator"
   ]
  },
  {
   "cell_type": "code",
   "execution_count": 4,
   "id": "78edfed2-8200-48be-9f58-8fb910fac299",
   "metadata": {},
   "outputs": [
    {
     "name": "stderr",
     "output_type": "stream",
     "text": [
      "Estimating PET motion: 100%|█████████████████████████████████████████████████████████████████████████████████████████████████████████████████████████████████████████████████████████████████████████████████████████| 21/21 [00:43<00:00,  2.07s/it]\n"
     ]
    }
   ],
   "source": [
    "estimator = PETMotionEstimator.estimate(pet_dataset, omp_nthreads=4, n_jobs=4)"
   ]
  },
  {
   "cell_type": "code",
   "execution_count": 6,
   "id": "a2aa3ff8-47dd-4b0e-8d93-e9cfc896e663",
   "metadata": {},
   "outputs": [
    {
     "data": {
      "text/plain": [
       "[array([[1., 0., 0., 0.],\n",
       "        [0., 1., 0., 0.],\n",
       "        [0., 0., 1., 0.],\n",
       "        [0., 0., 0., 1.]]),\n",
       " array([[1., 0., 0., 0.],\n",
       "        [0., 1., 0., 0.],\n",
       "        [0., 0., 1., 0.],\n",
       "        [0., 0., 0., 1.]]),\n",
       " array([[1., 0., 0., 0.],\n",
       "        [0., 1., 0., 0.],\n",
       "        [0., 0., 1., 0.],\n",
       "        [0., 0., 0., 1.]]),\n",
       " array([[1., 0., 0., 0.],\n",
       "        [0., 1., 0., 0.],\n",
       "        [0., 0., 1., 0.],\n",
       "        [0., 0., 0., 1.]]),\n",
       " array([[1., 0., 0., 0.],\n",
       "        [0., 1., 0., 0.],\n",
       "        [0., 0., 1., 0.],\n",
       "        [0., 0., 0., 1.]]),\n",
       " array([[1., 0., 0., 0.],\n",
       "        [0., 1., 0., 0.],\n",
       "        [0., 0., 1., 0.],\n",
       "        [0., 0., 0., 1.]]),\n",
       " array([[1., 0., 0., 0.],\n",
       "        [0., 1., 0., 0.],\n",
       "        [0., 0., 1., 0.],\n",
       "        [0., 0., 0., 1.]]),\n",
       " array([[1., 0., 0., 0.],\n",
       "        [0., 1., 0., 0.],\n",
       "        [0., 0., 1., 0.],\n",
       "        [0., 0., 0., 1.]]),\n",
       " array([[1., 0., 0., 0.],\n",
       "        [0., 1., 0., 0.],\n",
       "        [0., 0., 1., 0.],\n",
       "        [0., 0., 0., 1.]]),\n",
       " array([[1., 0., 0., 0.],\n",
       "        [0., 1., 0., 0.],\n",
       "        [0., 0., 1., 0.],\n",
       "        [0., 0., 0., 1.]]),\n",
       " array([[1., 0., 0., 0.],\n",
       "        [0., 1., 0., 0.],\n",
       "        [0., 0., 1., 0.],\n",
       "        [0., 0., 0., 1.]]),\n",
       " array([[1., 0., 0., 0.],\n",
       "        [0., 1., 0., 0.],\n",
       "        [0., 0., 1., 0.],\n",
       "        [0., 0., 0., 1.]]),\n",
       " array([[1., 0., 0., 0.],\n",
       "        [0., 1., 0., 0.],\n",
       "        [0., 0., 1., 0.],\n",
       "        [0., 0., 0., 1.]]),\n",
       " array([[1., 0., 0., 0.],\n",
       "        [0., 1., 0., 0.],\n",
       "        [0., 0., 1., 0.],\n",
       "        [0., 0., 0., 1.]]),\n",
       " array([[1., 0., 0., 0.],\n",
       "        [0., 1., 0., 0.],\n",
       "        [0., 0., 1., 0.],\n",
       "        [0., 0., 0., 1.]]),\n",
       " array([[1., 0., 0., 0.],\n",
       "        [0., 1., 0., 0.],\n",
       "        [0., 0., 1., 0.],\n",
       "        [0., 0., 0., 1.]]),\n",
       " array([[1., 0., 0., 0.],\n",
       "        [0., 1., 0., 0.],\n",
       "        [0., 0., 1., 0.],\n",
       "        [0., 0., 0., 1.]]),\n",
       " array([[1., 0., 0., 0.],\n",
       "        [0., 1., 0., 0.],\n",
       "        [0., 0., 1., 0.],\n",
       "        [0., 0., 0., 1.]]),\n",
       " array([[1., 0., 0., 0.],\n",
       "        [0., 1., 0., 0.],\n",
       "        [0., 0., 1., 0.],\n",
       "        [0., 0., 0., 1.]]),\n",
       " array([[1., 0., 0., 0.],\n",
       "        [0., 1., 0., 0.],\n",
       "        [0., 0., 1., 0.],\n",
       "        [0., 0., 0., 1.]]),\n",
       " array([[1., 0., 0., 0.],\n",
       "        [0., 1., 0., 0.],\n",
       "        [0., 0., 1., 0.],\n",
       "        [0., 0., 0., 1.]])]"
      ]
     },
     "execution_count": 6,
     "metadata": {},
     "output_type": "execute_result"
    }
   ],
   "source": [
    "estimator"
   ]
  },
  {
   "cell_type": "code",
   "execution_count": 10,
   "id": "f4bf7ccc-2b80-4792-8379-408c3c65b4c3",
   "metadata": {},
   "outputs": [],
   "source": [
    "import numpy as np\n",
    "import pandas as pd\n",
    "import seaborn as sns\n",
    "import matplotlib\n",
    "import matplotlib.pyplot as plt\n",
    "\n",
    "# For IPython or Python script, you might use\n",
    "import matplotlib\n",
    "matplotlib.use('TkAgg')\n",
    "\n",
    "def extract_motion_parameters(affine):\n",
    "    # Translation is straightforward\n",
    "    tx, ty, tz = affine[0, 3], affine[1, 3], affine[2, 3]\n",
    "    \n",
    "    # For small rotations, these approximations are usually sufficient\n",
    "    rx = np.arctan2(affine[2, 1], affine[2, 2])\n",
    "    ry = np.arctan2(-affine[2, 0], np.sqrt(affine[2, 1]**2 + affine[2, 2]**2))\n",
    "    rz = np.arctan2(affine[1, 0], affine[0, 0])\n",
    "    \n",
    "    return tx, ty, tz, np.degrees(rx), np.degrees(ry), np.degrees(rz)"
   ]
  },
  {
   "cell_type": "code",
   "execution_count": 11,
   "id": "9fb0653d-c0bc-429d-b2d6-39eb1982cd94",
   "metadata": {},
   "outputs": [],
   "source": [
    "# Assuming 'affines' is the list of affine matrices you have\n",
    "motion_parameters = []\n",
    "affines = estimator\n",
    "\n",
    "for idx, affine in enumerate(affines):\n",
    "    tx, ty, tz, rx, ry, rz = extract_motion_parameters(affine)\n",
    "    motion_parameters.append({\n",
    "        \"Frame\": idx,\n",
    "        \"Translation X\": tx,\n",
    "        \"Translation Y\": ty,\n",
    "        \"Translation Z\": tz,\n",
    "        \"Rotation X (deg)\": rx,\n",
    "        \"Rotation Y (deg)\": ry,\n",
    "        \"Rotation Z (deg)\": rz\n",
    "    })\n",
    "\n",
    "df_motion = pd.DataFrame(motion_parameters)"
   ]
  },
  {
   "cell_type": "code",
   "execution_count": null,
   "id": "92cceeda-6e40-4cdc-9129-5ffce477af84",
   "metadata": {},
   "outputs": [],
   "source": [
    "# Set up the matplotlib figure\n",
    "plt.figure(figsize=(18, 10))\n",
    "\n",
    "# Translation plots\n",
    "plt.subplot(2, 3, 1)\n",
    "sns.lineplot(x='Frame', y='Translation X', data=df_motion)\n",
    "plt.title('Translation X over Frames')\n",
    "\n",
    "plt.subplot(2, 3, 2)\n",
    "sns.lineplot(x='Frame', y='Translation Y', data=df_motion)\n",
    "plt.title('Translation Y over Frames')\n",
    "\n",
    "plt.subplot(2, 3, 3)\n",
    "sns.lineplot(x='Frame', y='Translation Z', data=df_motion)\n",
    "plt.title('Translation Z over Frames')\n",
    "\n",
    "# Rotation plots\n",
    "plt.subplot(2, 3, 4)\n",
    "sns.lineplot(x='Frame', y='Rotation X (deg)', data=df_motion)\n",
    "plt.title('Rotation X over Frames')\n",
    "\n",
    "plt.subplot(2, 3, 5)\n",
    "sns.lineplot(x='Frame', y='Rotation Y (deg)', data=df_motion)\n",
    "plt.title('Rotation Y over Frames')\n",
    "\n",
    "plt.subplot(2, 3, 6)\n",
    "sns.lineplot(x='Frame', y='Rotation Z (deg)', data=df_motion)\n",
    "plt.title('Rotation Z over Frames')\n",
    "\n",
    "plt.tight_layout()\n",
    "plt.show()"
   ]
  },
  {
   "cell_type": "code",
   "execution_count": null,
   "id": "9d0c849f-24d6-4ca9-9024-fd657d00c3a6",
   "metadata": {},
   "outputs": [],
   "source": []
  }
 ],
 "metadata": {
  "kernelspec": {
   "display_name": "Python 3 (ipykernel)",
   "language": "python",
   "name": "python3"
  },
  "language_info": {
   "codemirror_mode": {
    "name": "ipython",
    "version": 3
   },
   "file_extension": ".py",
   "mimetype": "text/x-python",
   "name": "python",
   "nbconvert_exporter": "python",
   "pygments_lexer": "ipython3",
   "version": "3.10.14"
  }
 },
 "nbformat": 4,
 "nbformat_minor": 5
}
