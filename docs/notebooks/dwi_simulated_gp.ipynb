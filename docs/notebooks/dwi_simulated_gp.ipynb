{
 "cells": [
  {
   "metadata": {},
   "cell_type": "markdown",
   "source": "We define a method below to create a noise-free DWI signal using a multi-tensor model.",
   "id": "6d3d512da282ff52"
  },
  {
   "metadata": {},
   "cell_type": "code",
   "source": [
    "import numpy as np\n",
    "\n",
    "from dipy.core.gradients import gradient_table\n",
    "from dipy.core.sphere import disperse_charges, HemiSphere, Sphere\n",
    "from dipy.sims.voxel import multi_tensor\n",
    "from sklearn.gaussian_process import GaussianProcessRegressor\n",
    "\n",
    "def create_multitensor_dmri_signal(hsph_dirs):\n",
    "    \"\"\"Create a multi-tensor, noise-free dMRI signal for simulation purposes. It\n",
    "    simulates two tensors crossing at 90 degrees with equal signal fraction, and\n",
    "    ``hsph_dirs`` diffusion-encoding gradients at b=1000 s/mm^2, plus a b0\n",
    "    volume.\"\"\"\n",
    "\n",
    "    # Eigenvalues of tensors\n",
    "    eval1 = [0.0015, 0.0003, 0.0003]\n",
    "    eval2 = [0.0015, 0.0003, 0.0003]\n",
    "    mevals = np.array([eval1, eval2])\n",
    "\n",
    "    # Polar coordinates (theta, phi) of the principal axis of each tensor\n",
    "    angles = [(0, 0), (90, 0)]\n",
    "\n",
    "    # Percentage of the contribution of each tensor\n",
    "    fractions = [50, 50]\n",
    "\n",
    "    # Create the gradient table placing random points on a hemisphere\n",
    "    rng = np.random.default_rng(1234)\n",
    "    theta = np.pi * rng.random(hsph_dirs)\n",
    "    phi = 2 * np.pi * rng.random(hsph_dirs)\n",
    "    hsph_initial = HemiSphere(theta=theta, phi=phi)\n",
    "\n",
    "    # Move the points so that the electrostatic potential energy is minimized\n",
    "    iterations = 5000\n",
    "    hsph_updated, potential = disperse_charges(hsph_initial, iterations)\n",
    "    # Create a sphere\n",
    "    sph = Sphere(xyz=np.vstack((hsph_updated.vertices, -hsph_updated.vertices)))\n",
    "\n",
    "    # Create the gradients\n",
    "    vertices = sph.vertices\n",
    "    values = np.ones(vertices.shape[0])\n",
    "    bvecs = vertices\n",
    "    bval_shell1 = 1000\n",
    "    bvals = bval_shell1 * values\n",
    "\n",
    "    # Add a b0 value to the gradient table\n",
    "    bvecs = np.insert(bvecs, 0, np.array([0, 0, 0]), axis=0)\n",
    "    bvals = np.insert(bvals, 0, 0)\n",
    "    gtab = gradient_table(bvals, bvecs)\n",
    "\n",
    "    # Create a noise-free signal\n",
    "    snr = None\n",
    "    S0 = 100\n",
    "    signal, sticks = multi_tensor(\n",
    "        gtab, mevals, S0=S0, angles=angles, fractions=fractions, snr=snr\n",
    "    )\n",
    "\n",
    "    return signal, sticks, gtab"
   ],
   "id": "a0f5bab019855954",
   "outputs": [],
   "execution_count": null
  },
  {
   "metadata": {},
   "cell_type": "markdown",
   "source": "We now create the DWI signal using 30 directions defined on the half sphere.",
   "id": "7d5b5cbebaa82e19"
  },
  {
   "metadata": {},
   "cell_type": "code",
   "source": [
    "hsph_dirs = 90\n",
    "signal, sticks, gtab = create_multitensor_dmri_signal(hsph_dirs)"
   ],
   "id": "e9545781fe5cf3b8",
   "outputs": [],
   "execution_count": null
  },
  {
   "metadata": {},
   "cell_type": "markdown",
   "source": "Define the method that computes the signal attenuation.",
   "id": "40b8ba2f818a49f8"
  },
  {
   "metadata": {},
   "cell_type": "code",
   "source": [
    "def diffusion_distance(bvecs, Q):\n",
    "    # Borrowed from https://github.com/arokem/osmosis/blob/72d848ddc172ce6a72baba4c0d4cf3675db1a381/osmosis/tensor.py#L233-L248\n",
    "    # sphADC = np.dot(np.dot(bvecs.T, np.matrix(Q).getI()), bvecs)\n",
    "    sphADC = np.dot(np.dot(bvecs.T, np.linalg.inv(Q)), bvecs)\n",
    "    dist = np.diag(1 / np.sqrt(sphADC))\n",
    "\n",
    "    return dist"
   ],
   "id": "d40db09fa860c25e",
   "outputs": [],
   "execution_count": null
  },
  {
   "metadata": {},
   "cell_type": "markdown",
   "source": "Perform the DTI fit on the signal and compute the signal attenuation along each diffusion-encoding gradient direction.",
   "id": "25f32e883f520b86"
  },
  {
   "metadata": {},
   "cell_type": "code",
   "source": [
    "import dipy.reconst.dti as dti\n",
    "\n",
    "dti_model = dti.TensorModel(gtab)\n",
    "dti_fit = dti_model.fit(signal)\n",
    "\n",
    "distance = diffusion_distance(gtab.bvecs.T, dti_fit.quadratic_form)"
   ],
   "id": "ba6f132d088a1c0a",
   "outputs": [],
   "execution_count": null
  },
  {
   "metadata": {},
   "cell_type": "markdown",
   "source": "We now define a function to plot the DWI signal.",
   "id": "e9c2295d90cfbfc1"
  },
  {
   "metadata": {},
   "cell_type": "code",
   "source": [
    "from matplotlib import pyplot as plt \n",
    "%matplotlib inline\n",
    "\n",
    "def plot_dwi(dwi_data, bvecs, b0s_mask, voxel_idx, b0_idx, distance):\n",
    "\n",
    "    s0_voxel = dwi_data[voxel_idx[0], voxel_idx[1], voxel_idx[2], b0_idx]\n",
    "    s_voxel = dwi_data[voxel_idx[0], voxel_idx[1], voxel_idx[2], ~b0s_mask]\n",
    "\n",
    "    # Scale gradient vector values with the distance\n",
    "    # s_normal = s_voxel/s0_voxel\n",
    "    # scaled_vectors = bvecs[:, ~b0s_mask] / s_normal[np.newaxis, :]\n",
    "    scaled_vectors = bvecs[:, ~b0s_mask] / distance[~b0s_mask]\n",
    "\n",
    "    # Plot the DWI signal as a 3D point cloud\n",
    "    fig = plt.figure()\n",
    "    ax = fig.add_subplot(111, projection=\"3d\")\n",
    "\n",
    "    _ = ax.scatter(scaled_vectors[0, :], scaled_vectors[1, :], scaled_vectors[2, :], c=\"blue\", marker=\"*\")\n",
    "\n",
    "    # Set labels\n",
    "    ax.set_xlabel(\"X\")\n",
    "    ax.set_ylabel(\"Y\")\n",
    "    ax.set_zlabel(\"Z\")\n",
    "    ax.set_title(\"Normalized dMRI signal\")\n",
    "\n",
    "    return fig"
   ],
   "id": "1ed5c04d4b49d8d9",
   "outputs": [],
   "execution_count": null
  },
  {
   "metadata": {},
   "cell_type": "markdown",
   "source": "Since there is only a single voxel in the simulated DWI signal, we add 3 axes before the diffusion-encoding gradient axis so that the plotting method can appropriately represent it. ",
   "id": "a31eef208433f772"
  },
  {
   "metadata": {},
   "cell_type": "code",
   "source": [
    "voxel_idx = [0, 0, 0]\n",
    "dwi_data = signal[np.newaxis, np.newaxis, np.newaxis, :]\n",
    "# There is only one b0 volume in the simulated signal\n",
    "b0_idx = 0\n",
    "_ = plot_dwi(dwi_data, gtab.bvecs.T, gtab.b0s_mask, voxel_idx, b0_idx, distance)\n",
    "plt.show()"
   ],
   "id": "c07f103d9bd347cc",
   "outputs": [],
   "execution_count": null
  },
  {
   "metadata": {},
   "cell_type": "markdown",
   "source": "We now define the kernel that we will be using for the Gaussian process",
   "id": "37e6f400ed44f2d9"
  },
  {
   "metadata": {},
   "cell_type": "code",
   "source": [
    "from nifreeze.model.gpr import SphericalKriging\n",
    "\n",
    "beta_l = 2.0\n",
    "beta_a = 1.0\n",
    "kernel = SphericalKriging(beta_a=beta_a, beta_l=beta_l)"
   ],
   "id": "a66400cc9ee4c084",
   "outputs": [],
   "execution_count": null
  },
  {
   "metadata": {},
   "cell_type": "markdown",
   "source": "The ``grad`` gradient table instance is in RAS+b format, so we choose the diffusion-encoding gradient vectors (leaving out the first index, which corresponds to the b0 volume) to fit the Gaussian process.",
   "id": "12b7491f09d7ea74"
  },
  {
   "metadata": {},
   "cell_type": "code",
   "source": [
    "_grad = grad[:3, 1:]\n",
    "sigma_sq = 0.5\n",
    "gpr = GaussianProcessRegressor(kernel=kernel, alpha=sigma_sq, random_state=0)\n",
    "gpr.fit(_grad.T, signal[1:])"
   ],
   "id": "b64f511b41456359",
   "outputs": [],
   "execution_count": null
  },
  {
   "metadata": {},
   "cell_type": "markdown",
   "source": "Now predict the signal on the last diffusion-encoding gradient vector.  ",
   "id": "351b0db081b0e890"
  },
  {
   "metadata": {},
   "cell_type": "code",
   "source": [
    "_grad_pred = grad[:3, -1]\n",
    "y_mean, y_std = gpr.predict(_grad_pred, return_std=True)"
   ],
   "id": "ecfc20d16f567c91",
   "outputs": [],
   "execution_count": null
  },
  {
   "metadata": {},
   "cell_type": "markdown",
   "source": "Check whether the hyperparameters of the kernel have been optimized",
   "id": "c025c7d8a8c47b4c"
  },
  {
   "metadata": {},
   "cell_type": "code",
   "source": "gpr.kernel_",
   "id": "1ee8a8d2584ea19",
   "outputs": [],
   "execution_count": null
  },
  {
   "metadata": {},
   "cell_type": "markdown",
   "source": "Plot the training data and the predictions from the Gaussian process",
   "id": "8913c3c3ef7d50f7"
  },
  {
   "metadata": {},
   "cell_type": "code",
   "source": [
    "from matplotlib import pyplot as plt \n",
    "%matplotlib inline\n",
    "\n",
    "s = dwi_data[voxel_idx[0], voxel_idx[1], voxel_idx[2], :]\n",
    "s_hat_mean = y_mean[voxel_idx[0], voxel_idx[1], voxel_idx[2], :]\n",
    "s_hat_stddev = y_std[voxel_idx[0], voxel_idx[1], voxel_idx[2], :]\n",
    "x = np.asarray(range(len(grad.bvals)))\n",
    "\n",
    "fig, ax = plt.subplots()\n",
    "ax.plot(x, s_hat_mean, c=\"orange\", label=\"predicted\")\n",
    "plt.fill_between(\n",
    "    x.ravel(),\n",
    "    s_hat_mean - 1.96 * s_hat_stddev,\n",
    "    s_hat_mean + 1.96 * s_hat_stddev,\n",
    "    alpha=0.5,\n",
    "    color=\"orange\",\n",
    "    label=r\"95% confidence interval\",\n",
    ")\n",
    "plt.scatter(x, s, c=\"b\", label=\"ground truth\")\n",
    "ax.set_xlabel(\"bvec indices\")\n",
    "ax.set_ylabel(\"signal\")\n",
    "ax.legend()\n",
    "plt.title(\"Gaussian process regression on dataset\")\n",
    "\n",
    "plt.show()"
   ],
   "id": "58f01aeb70aff1c1",
   "outputs": [],
   "execution_count": null
  }
 ],
 "metadata": {
  "kernelspec": {
   "display_name": "Python 3",
   "language": "python",
   "name": "python3"
  },
  "language_info": {
   "codemirror_mode": {
    "name": "ipython",
    "version": 2
   },
   "file_extension": ".py",
   "mimetype": "text/x-python",
   "name": "python",
   "nbconvert_exporter": "python",
   "pygments_lexer": "ipython2",
   "version": "2.7.6"
  }
 },
 "nbformat": 4,
 "nbformat_minor": 5
}
